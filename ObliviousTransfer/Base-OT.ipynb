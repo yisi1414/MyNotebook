{
 "metadata": {
  "name": "",
  "signature": "sha256:0b2f4a41c01a7bf06da7619c1095e4cc90c0d7a3774686a4af7614546679fd24"
 },
 "nbformat": 3,
 "nbformat_minor": 0,
 "worksheets": [
  {
   "cells": [
    {
     "cell_type": "heading",
     "level": 1,
     "metadata": {},
     "source": [
      "Base Oblivious Transfer\n"
     ]
    },
    {
     "cell_type": "markdown",
     "metadata": {},
     "source": [
      "[publisher](http://dl.acm.org/citation.cfm?id=365502)\n",
      "\n",
      "_abstract_\n",
      "\n",
      "Oblivious Transfer (OT) protocols allow one party, the\n",
      "sender, to transmit part of its inputs to another party,\n",
      "the chooser, in a manner that protects both of them:\n",
      "the sender is assured that the chooser does not receive\n",
      "more information than it is entitled, while the chooser is\n",
      "assured that the sender does not learn which part of the\n",
      "inputs it received. OT is used as a key component in\n",
      "many applications of cryptography. Its computational\n",
      "requirements are quite demanding and they are likely\n",
      "to be the bottleneck in many applications that invoke\n",
      "it. \n",
      "\n",
      "\n",
      "> Classic paper by Moni Naor and Benny Pinkas, which gives the most pratical construction of OT.\n"
     ]
    },
    {
     "cell_type": "heading",
     "level": 2,
     "metadata": {},
     "source": []
    },
    {
     "cell_type": "markdown",
     "metadata": {},
     "source": []
    }
   ],
   "metadata": {}
  }
 ]
}