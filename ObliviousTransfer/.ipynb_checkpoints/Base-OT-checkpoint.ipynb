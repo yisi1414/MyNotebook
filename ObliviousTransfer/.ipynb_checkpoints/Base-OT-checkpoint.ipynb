{
 "metadata": {
  "name": "",
  "signature": "sha256:efbd5a2e5bacb680dba4aa392bb444f88c263ca473a31a9fdfd4b97b4c2c629d"
 },
 "nbformat": 3,
 "nbformat_minor": 0,
 "worksheets": [
  {
   "cells": [
    {
     "cell_type": "heading",
     "level": 1,
     "metadata": {},
     "source": [
      "Oblivious Transfer\n"
     ]
    },
    {
     "cell_type": "heading",
     "level": 2,
     "metadata": {},
     "source": [
      "Base OT"
     ]
    },
    {
     "cell_type": "heading",
     "level": 2,
     "metadata": {},
     "source": [
      "Correlated OT"
     ]
    },
    {
     "cell_type": "markdown",
     "metadata": {},
     "source": []
    }
   ],
   "metadata": {}
  }
 ]
}