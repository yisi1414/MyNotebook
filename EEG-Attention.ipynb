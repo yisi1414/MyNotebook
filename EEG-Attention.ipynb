{
 "metadata": {
  "name": "",
  "signature": "sha256:f5acced596140751f18819760498907c6acc940ef37ce1a1f1f0c0845b6a8c32"
 },
 "nbformat": 3,
 "nbformat_minor": 0,
 "worksheets": [
  {
   "cells": [
    {
     "cell_type": "heading",
     "level": 1,
     "metadata": {},
     "source": [
      "How to get human attention through EEG signal"
     ]
    },
    {
     "cell_type": "markdown",
     "metadata": {},
     "source": [
      "# Basics\n",
      "\n",
      "\n",
      "Source: Recognizing the Degree of Human Attention Using EEG Signals from Mobile Sensors\n",
      "\n",
      "Wave Frequence Ranges:\n",
      "* $\\alpha$ 8-13Hz When thinking, blinking, or otherwise stimulated, it is disappered.\n",
      "* $\\beta$ 14-30Hz These waves are particularly apparent when a person is thinking or receiving sensory stimulation\n",
      "* $\\gamma$ "
     ]
    },
    {
     "cell_type": "code",
     "collapsed": false,
     "input": [],
     "language": "python",
     "metadata": {},
     "outputs": []
    }
   ],
   "metadata": {}
  }
 ]
}