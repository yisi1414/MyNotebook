{
 "metadata": {
  "name": "",
  "signature": "sha256:11a0df166dc7fc70797b6f58245f2bbfdb62f36b5512deaac43e5294809711fc"
 },
 "nbformat": 3,
 "nbformat_minor": 0,
 "worksheets": [
  {
   "cells": [
    {
     "cell_type": "heading",
     "level": 1,
     "metadata": {},
     "source": [
      "Tweak Your iPython Notebook"
     ]
    },
    {
     "cell_type": "heading",
     "level": 2,
     "metadata": {},
     "source": [
      "IPython Vimception"
     ]
    },
    {
     "cell_type": "markdown",
     "metadata": {},
     "source": [
      "[Github](https://github.com/ivanov/ipython-vimception)\n",
      "\n"
     ]
    }
   ],
   "metadata": {}
  }
 ]
}