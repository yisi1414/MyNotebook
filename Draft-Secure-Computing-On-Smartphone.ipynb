{
 "metadata": {
  "name": "",
  "signature": "sha256:abe20b6b3bb2c022897e8a3af3729cd90d4edacfdbac2caa37283314ef2499d2"
 },
 "nbformat": 3,
 "nbformat_minor": 0,
 "worksheets": [
  {
   "cells": [
    {
     "cell_type": "heading",
     "level": 1,
     "metadata": {},
     "source": [
      "Title: Private-Preserving Dynamic Programming for Smartphone Applications"
     ]
    },
    {
     "cell_type": "markdown",
     "metadata": {},
     "source": [
      "# Dynamic Programming\n",
      "\n",
      "### Protocol Module:\n",
      "\n",
      "1. A private-preserving protocol for computing distance. (well-studied [1])\n",
      "    1. Hamming distance, Square Euclidean distance and more distance measures (Manhattan distance ).\n",
      "    2. [1] gives a general protocol for distance computing.\n",
      "2. A private-preserving minimal-finding protocol for dynamic programming (well-studied)\n",
      "\n",
      "3. A private-preserving protocol for hiding the optimal path in dynamic programming [4]\n",
      "    1. Alice get minimal on a permuted & blinded/encrypted data from Bob using a minimal-find protocol. \n",
      "    2. Ran a OT to retrieve the cipher text with random number mixed from two parties in it.\n",
      "    3. Send it back to Bob and Bob will add this into the DP matrix.\n",
      "\n",
      "### Challenge in secure computing in smartphone:\n",
      "\n",
      "1. How maximize the utility of precomputing in secure computing protocols? This is critical to smartphone since 1) smartphone has limited computation power. 2) Intensive computation will consume large amount of energy which will downgrade user usability and experience.\n",
      "\n",
      "2. How to design protocol for different application architecture? 1) client-server. There is a powerful server up there providing service. 2) ad-hoc mode among smartphones. Two different user want to compute while preserving privacy. It would be better if the calculation is balanced among two parties. 3) local computing (TrustZone). Secure world usually need to outsource sensitive data to Non-secure world for processing.\n",
      "\n",
      "3. How to desigin protocol to reduce communication cost? Cellular network is expensive comparing to Wifi network. We need to design protocol which reduces the communication cost for smartphone user.\n",
      "\n",
      "4. \n",
      "\n",
      "### Supported Dynamic Programming Algorithm\n",
      "\n",
      "1. Dynamic Time Warping\n",
      "2. Levenshtein distance(Edit distance)\n",
      "3. Shortest path (not sure)\n",
      "\n",
      "\n",
      "\n",
      "### Applications\n",
      "\n",
      "1. Face recognition:  Hamming distance(SciFi), Euclidean distance(Eigenfaces using distance), Scalar Product(Eigenfaces using projection) [1]\n",
      "2. IrisCodes: normaized Hamming distance [1]\n",
      "3. FingerCodes: Euclidean distance [1]\n",
      "4. Gesture recognition/auth: Dynamic time warping\n",
      "5. Genome computing: String match(Edit distance), Approximate strinig match(bloom-filter based), Privvate Set Intersection (PSI), PSI-Cardinality, Private Equality Test. [3]\n",
      "6. Location-based Social network: Shortest path\n",
      "7. Private-preserving speech processing [2]\n",
      "8. Keystroke user auth\n",
      "9. Social network related app:  game match-maker, friend matching/recommendation, \n",
      "\n",
      "\n",
      "### Reference\n",
      "1. GSHADE: Faster Privacy-Preserving Distance Computation and Biometric Identification, IH&MMSec, 2014\n",
      "2. Privacy Preserving Speech Processing, Signal Processing Magazine, IEEE, 2013\n",
      "3. GenoDroid: Are Privacy-Preserving Genomic Tests Ready for Prime Time?, WPES, 2012\n",
      "4. Privacy Preserving Similarity Evaluation of Time Series Data, EDBT, 2014\n"
     ]
    },
    {
     "cell_type": "code",
     "collapsed": false,
     "input": [],
     "language": "python",
     "metadata": {},
     "outputs": []
    }
   ],
   "metadata": {}
  }
 ]
}