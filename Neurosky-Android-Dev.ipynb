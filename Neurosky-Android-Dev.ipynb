{
 "metadata": {
  "name": "",
  "signature": "sha256:5703f284a55f6116b98d23d6f44a178ff13bbd0a48ce84e6bd6b2a280b2c7059"
 },
 "nbformat": 3,
 "nbformat_minor": 0,
 "worksheets": [
  {
   "cells": [
    {
     "cell_type": "heading",
     "level": 1,
     "metadata": {},
     "source": [
      "Neruosky Android Dev Tutorials"
     ]
    },
    {
     "cell_type": "markdown",
     "metadata": {},
     "source": [
      "# Prepare\n",
      "\n",
      "[latest sdk](http://developer.neurosky.com/docs/doku.php?id=beta)\n",
      "The version of thinkgear is 9 and the beta version is 22.\n",
      "\n"
     ]
    },
    {
     "cell_type": "code",
     "collapsed": false,
     "input": [],
     "language": "python",
     "metadata": {},
     "outputs": [],
     "prompt_number": 0
    },
    {
     "cell_type": "markdown",
     "metadata": {},
     "source": [
      "### Interpret the eSense\n",
      "\n",
      "[eSense Meters](http://developer.neurosky.com/docs/doku.php?id=thinkgear_communications_protocol#esense_tm_meters)\n",
      "\n"
     ]
    },
    {
     "cell_type": "markdown",
     "metadata": {},
     "source": []
    }
   ],
   "metadata": {}
  }
 ]
}