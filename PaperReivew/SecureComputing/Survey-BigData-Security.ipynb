{
 "metadata": {
  "name": "",
  "signature": "sha256:b794ca6388156d2635e1dc48e145e647ac83d3eddb7d56b6f841273b7735c857"
 },
 "nbformat": 3,
 "nbformat_minor": 0,
 "worksheets": [
  {
   "cells": [
    {
     "cell_type": "heading",
     "level": 1,
     "metadata": {},
     "source": [
      "A Survey of Cryptographic Approaches to Securing Big-Data Analytics in the Cloud"
     ]
    },
    {
     "cell_type": "markdown",
     "metadata": {},
     "source": [
      "[pdf](http://www.ieee-hpec.org/CD/index_htm_files/FinalPapers/28.pdf)\n",
      "\n",
      "# Story\n",
      "\n",
      "> \"The shared\n",
      "compute infrastructure introduces many security concerns not\n",
      "present in more traditional computing architectures. The cloud\n",
      "provider and tenants may be untrusted entities who try to\n",
      "tamper with data storage or computation\"\n",
      "\n",
      "This paper first models the cloud computing environment using a workflow graph with different notes: I(nput),C(omputing),S(torage),R(esult).\n",
      "\n",
      "# Cryptographic methods\n",
      "\n",
      "## Homomorphic Encryption\n",
      "\n",
      "_Fully_ HE, \n",
      "\n",
      "\n",
      "_Partial_ or _some what_ HE\n",
      "\n",
      "\n",
      "\n",
      "## Verifiable Computing\n",
      "\n",
      "Pinocchio: Nearly\n",
      "practical verifiable computation\n",
      "\n",
      "SNARKs for C\n",
      "\n",
      "too slow for big data.\n",
      "\n",
      "\n",
      "## Secure Multi-party Computing\n",
      "\"Secure multi-party computation (MPC) is suited to take\n",
      "advantage of the semi-trusted cloud setting\"\n",
      "\n",
      "_threshold_ adversary model\n",
      "\n",
      "\n",
      "http://viff.dk/\n",
      "\n",
      "\n",
      "## Others\n",
      "functional encryption, identity-based encryption and attribute-based encryption\n",
      "\n",
      "| Cryptographic methods | adversary type | confidentiality | itegrity | require interaction |\n",
      "|:-:|:-:|:-:|:-:|:-:|\n",
      "| HE | Malicious | Y | N | N |\n",
      "| VC | Maclious | N | Y | N |\n",
      "| HE+VC | Maclious | Y | Y | Y |\n",
      "| MPC | semi-honest or maclious | Y | Y | Y |\n",
      "\n",
      "\n",
      "> This paper MPC and HE are separated, which is not what I will categorize. "
     ]
    },
    {
     "cell_type": "code",
     "collapsed": false,
     "input": [],
     "language": "python",
     "metadata": {},
     "outputs": []
    }
   ],
   "metadata": {}
  }
 ]
}