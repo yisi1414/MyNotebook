{
 "metadata": {
  "name": "",
  "signature": "sha256:a8de820cc991d0ef8a7d85620c6e0dd42179b5744a0ab722bda41f0041f07466"
 },
 "nbformat": 3,
 "nbformat_minor": 0,
 "worksheets": [
  {
   "cells": [
    {
     "cell_type": "heading",
     "level": 1,
     "metadata": {},
     "source": [
      "COMPARING ENCRYPTED DATA"
     ]
    },
    {
     "cell_type": "markdown",
     "metadata": {},
     "source": [
      "[pdf](http://dmirlab.tudelft.nl/sites/default/files/Comparing%20encrypted%20data.pdf)\n",
      "\n",
      "**Abstract** When processing signals in the encrypted domain, homomorphic\n",
      "encryption can be used to enable linear operations on encrypted\n",
      "data. More complicated operations like comparison,\n",
      "modulo reduction, or division, require a comparison protocol\n",
      "as a building block. Since the overall computational complexity\n",
      "of signal processing on encrypted data is often determined\n",
      "by the comparison protocol, it is very important to find the\n",
      "most efficient solution. We present a new comparison protocol\n",
      "and compare it with existing solutions, outperforming\n",
      "them at least when precomputation complexity is included\n"
     ]
    },
    {
     "cell_type": "markdown",
     "metadata": {},
     "source": [
      "#Overview\n",
      "\n",
      "** millionaires problem. ** comparing two integer privately.\n",
      "\n",
      "semi-honest\n",
      "\n",
      "\n"
     ]
    },
    {
     "cell_type": "markdown",
     "metadata": {},
     "source": [
      "# Lightweight Secure Integer Comparison\n",
      "\n",
      "support bit encryption $[.]$or integer encryption $[[.]]$ \n",
      "\n",
      "### homomorphic property\n",
      "\n",
      "1. $[x]\\cdot[y] = [x\\oplus y] \\mod N $\n",
      "2. $ [[x]]\\cdot[[y]] = [[x + y]] \\mod N $\n",
      "3. $[[-x]] = {[[x]]}^{-1} \\mod N $\n",
      "4. $ x\\div y = (x - (x \\mod y)/ y)$\n",
      "\n",
      "## Protocol 1\n",
      "\n",
      "> \"When comparing encrypted signals, the most common model\n",
      "is the client-server model, where the client has encrypted signals\n",
      "and the server has the private key [15]. We first show\n",
      "how this problem can efficiently be converted to a comparison\n",
      "of two private integers, i.e. both client and server having\n",
      "a private integer. In the second subsection an efficient solution,\n",
      "called Lightweight Secure Integer Comparison (LSIC)\n",
      "is presented for the comparison of two private integers.\"\n",
      "\n",
      "> Protocol 1 convert a client-server mode to two party comparing private value.\n",
      "\n",
      "\n",
      "The mostsignificant bit is important.\n",
      "Assume that $[[a]]$ and $[[b]]$ are $l$-bit encrypted data.\n",
      "\n",
      "Let's look at the MSB of $x= a+ 2^l - b$. If $a>b$, we will get a $x>2^l$, the vice vera. we can calculate $x \\div 2^l$, which is the MSB. \n",
      "\n",
      "* $a,b$ are all $l$ bit value.\n",
      "* A has $[[a]]$ and [[b]]\n",
      "* B has decryption key $K$\n",
      "\n",
      "steps\n",
      "\n",
      "1. A get $x = [[b]] \\cdot [[2^l]] \\cdot {[[a]]}^{-1} \\mod N$. \n",
      "2. A choose a random $r$ to blind $x$ as $[[ z ]] = [[x]][[r]] \\mod N$ and send $[[z]]$ to B. Get $c = r \\mod 2^l$\n",
      "3. B decrypt $[[z]]$, get $d = z\\mod 2^l$. \n",
      "4. A and B privately compute the encrypted bit $[[t]]$ such that $\\{(t = 1) \\equiv (d < c)\\}$\n",
      "5. B encrypts $z_{l+1}$ and send $[ z_{l+1} ]$ to A\n",
      "6. A encrypts $[r_{l+1}]$ and calculate $[t]=[t]\\cdot[r_{l+1}]\\cdot[z_{l+1}]$.($t=\\{x \\div 2^l\\}$)\n",
      "\n",
      "> step 5 6 can also be implemented using Paillier. $  [[t]] = [[z \\div 2^l]] {[[r \\div 2^l]]}^{-1} {[[t]]}^{-1}\\mod N $\n",
      "\n",
      "\n",
      "\n",
      "\n",
      "\n",
      "\n",
      "\n"
     ]
    },
    {
     "cell_type": "markdown",
     "metadata": {},
     "source": [
      "## Protocol 2\n",
      "Input:\n",
      "\n",
      "* A: $a=a_{l-1}\\cdots a_0$\n",
      "* B: $b=b_{l-1}\\cdots b_0$ and decryption key $K$\n",
      "\n",
      "Output:\n",
      "\n",
      "* encrypted bit [t], where $\\{ (t=1) \\equiv (a<b) \\}$\n"
     ]
    },
    {
     "cell_type": "code",
     "collapsed": false,
     "input": [],
     "language": "python",
     "metadata": {},
     "outputs": []
    }
   ],
   "metadata": {}
  }
 ]
}