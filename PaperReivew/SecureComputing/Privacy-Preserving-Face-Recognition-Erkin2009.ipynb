{
 "metadata": {
  "name": "",
  "signature": "sha256:fd37f8313c11bc4affb6e6222bc2c4d6390630b958fb34ba358d37ad272662e6"
 },
 "nbformat": 3,
 "nbformat_minor": 0,
 "worksheets": [
  {
   "cells": [
    {
     "cell_type": "heading",
     "level": 1,
     "metadata": {},
     "source": [
      "Privacy-Preserving Face Recognition"
     ]
    },
    {
     "cell_type": "markdown",
     "metadata": {},
     "source": [
      "[pdf](http://bioinformatics.tudelft.nl/sites/default/files/pet2009.pdf)\n",
      "\n",
      "_abstract_ Face recognition is increasingly deployed as a means to unobtrusively\n",
      "verify the identity of people. The widespread use of biometrics\n",
      "raises important privacy concerns, in particular if the biometric matching\n",
      "process is performed at a central or untrusted server, and calls for\n",
      "the implementation of Privacy-Enhancing Technologies. In this paper\n",
      "we propose for the first time a strongly privacy-enhanced face recognition\n",
      "system, which allows to efficiently hide both the biometrics and the\n",
      "result from the server that performs the matching operation, by using\n",
      "techniques from secure multiparty computation. We consider a scenario\n",
      "where one party provides a face image, while another party has access\n",
      "to a database of facial templates. Our protocol allows to jointly run the\n",
      "standard Eigenfaces recognition algorithm in such a way that the first\n",
      "party cannot learn from the execution of the protocol more than basic\n",
      "parameters of the database, while the second party does not learn\n",
      "the input image or the result of the recognition process. At the core of\n",
      "our protocol lies an efficient protocol for securely comparing two Paillerencrypted\n",
      "numbers. We show through extensive experiments that the\n",
      "system can be run efficiently on conventional hardware"
     ]
    },
    {
     "cell_type": "markdown",
     "metadata": {},
     "source": [
      "# Overview\n",
      "\n",
      "## Cryptographic tools\n",
      "DGK, Paillier.\n",
      "\n",
      "## Assumptions\n",
      "\n",
      "\"we assume that all coordinates of the eigenfaces and feature\n",
      "vectors are represented as integers; this can always be achieved by appropriate\n",
      "quantization: non-integer values are first scaled by a fixed scale factor S and\n",
      "rounded to the nearest integer. This is necessary, as all values need to be integers\n",
      "in order to encrypt them with Paillier and process them using homomorphic\n",
      "operations.\"\n",
      "\n",
      "\n",
      "\n",
      "\n"
     ]
    },
    {
     "cell_type": "code",
     "collapsed": false,
     "input": [],
     "language": "python",
     "metadata": {},
     "outputs": []
    }
   ],
   "metadata": {}
  }
 ]
}