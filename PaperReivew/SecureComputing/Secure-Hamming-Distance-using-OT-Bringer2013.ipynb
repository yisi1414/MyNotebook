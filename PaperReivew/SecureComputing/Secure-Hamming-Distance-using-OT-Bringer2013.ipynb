{
 "metadata": {
  "name": "",
  "signature": "sha256:96c7eaffb9edc595b233159527ebccd0f206ed0af26b804c2cade17d1714844b"
 },
 "nbformat": 3,
 "nbformat_minor": 0,
 "worksheets": [
  {
   "cells": [
    {
     "cell_type": "heading",
     "level": 1,
     "metadata": {},
     "source": [
      "SHADE: Secure HAmming DistancE computation from oblivious transfer"
     ]
    },
    {
     "cell_type": "markdown",
     "metadata": {},
     "source": [
      "[pdf](https://eprint.iacr.org/2012/586.pdf)\n",
      "\n",
      "# Overview\n",
      "\n",
      "This paper gives protocol for securely calculating hamming distance in two parties.\n",
      "\n",
      "For semi-honest setting, this can be implemented by only oblivious tranfer.\n",
      "\n",
      "For malicious setting, a committed-OT can be used.\n",
      "\n",
      "> Weighted hamming distance is used in in biometric iris matching  \n",
      "\n",
      "\n",
      "# Problem\n",
      "Assume we have two parties $X$ and $Y$, each privately holds a $n$-bit string.\n",
      "\n",
      "*input*\n",
      "$$ X = \\{x_1, x_2, \\cdots, x_n \\} $$\n",
      "$$ Y = \\{y_1, u_2, \\cdots, y_n \\} $$\n",
      "\n",
      "*output*\n",
      "$$ d_{Hamming}(X,Y) =  \\sum_{i=1}^{n}(x_i \\oplus y_i)$$\n",
      "\n",
      "\n"
     ]
    },
    {
     "cell_type": "markdown",
     "metadata": {},
     "source": [
      "# Base scheme\n",
      "\n",
      "This scheme works in the semi-honest scenario.\n",
      "\n",
      "Party1 has $X$, and prepare $n$ random $r_1, r_2, \\cdots, r_n$. $R = \\sum_{i=1}^{n} r_i$.\n",
      "\n",
      "Party1 initiates $n$ 1-out-of-2 OT as sender while Partt2 wil be the chooser.\n",
      "\n",
      "Party2 use his bit $y_i$ as selection bit in the OT with Party1. Party1 will provide $\\{r_i+x_i, r_i+\\bar{x_i} \\}$\n",
      "\n",
      "If $y_i=0$, it will choose  $r_i+x_i = r_i+x_i\\oplus 0$\n",
      "If $y_i=1$, it will choose  $r_i+\\bar{x_i} = r_i+x_i\\oplus 1$.\n",
      "Generally, Part2 will get $t_i =  r_i+x_i\\oplus y_i $\n",
      "\n",
      "After the run of those $n$ OTs. \n",
      "Party2 will gather $T = \\sum_{i=1}^{n} t_i$ and send this to Party1.\n",
      "Party1 can get the hamming distance by $T-R$.\n",
      "Or let Party1 send $R$ to Party2 and Party2 can get the hanmming distance locally."
     ]
    },
    {
     "cell_type": "markdown",
     "metadata": {},
     "source": [
      "# Full secure scheme\n",
      "\n",
      "> combined with verifiable computing, base scheme can be extended to a full secure scheme\n",
      "> Their scheme is like do the transimission first using OT, then do computation inside commitment.\n",
      "\n",
      "\n",
      "## Committed-OT (Verifiable OT)\n",
      "\n",
      "*input*\n",
      "\n",
      "* Sender: has two $n$-bit string $X_0$ and $X_1$. two random $r_0$ and $r_1$ for commitment.\n",
      "* Receiver(Chooser): a choice bit $b$ and a $r$ for commitment.\n",
      "* Common input: three commitments: $Com(b,r)$, $Com(X_0,r_0)$, $Com(X_1,r_1)$\n",
      "\n",
      "*output*\n",
      "\n",
      "* Sender learns nothing on $b$ and $r$\n",
      "* Receiver obtains $X_b$ and a random $u$, nothing on $X_{1-b}$, $r_0$ and $r_1$\n",
      "* Common ouput: $Com(X_b, u)$\n",
      "\n",
      "\n",
      "## Protocol detail\n",
      "The commit scheme needs to be additive homomorphic, i.e $Com(x_1,r_1) \\odot Com(x_2,r_2) = Com(x_1+x_2, r_1 \\otimes r_2)$\n",
      "\n",
      "Also, we need zero knowledge proof $\\pi_{1}^{2}$, both parties know a $Com(x,r)$ and $x_0$, $x_1$.\n",
      "Prover knows $x$ and $r$, and prove that $x$ is either $x_0$ or $x_1$.\n",
      "\n",
      "> Need to figure out this notation Camenisch and Stadler.\n",
      "> Camenisch, J., Stadler, M.: Efficient group signature schemes for large groups\n",
      "\n",
      "\n",
      "$$\n",
      "\\pi_{1}^{2} = PK\\{ (\\alpha, \\beta): C=Com(\\alpha, \\beta) \\wedge(  (\\alpha=x_0) \\vee (\\alpha=x_1)  )\\}\n",
      "$$\n",
      "\n",
      "\n",
      "**Steps**:\n",
      "\n",
      "1. P2 commits all the $y$ in $Com(y_i, m_i)$ and using ZKP to proves $y_i$ is 0 or 1.\n",
      "2. P1 prepares $n$ random $r_1, r_2, \\cdots, r_n$. $R = \\sum_{i=1}^{n} r_i$\n",
      "3. For each $i$, P1 calculate $\\{a_i,b_i\\}=\\{r_i+x_i, r_i+\\bar{x_i} \\}$ and commit $a_i,b_i$. And publish commit $A_i=Com(a_i, \\alpha_i)$ and $B_i=Com(b_i, \\beta_i)$.\n",
      "4. P1 proves to P2, that $|a_i-b_i|=1$\n",
      "5. Run the C-OT\n",
      "    1. P1 is the sender and P2 is the receiveer\n",
      "    2. P2 use $y_i$ as choice bit\n",
      "    3. P1's input is $a_i,b_i$\n",
      "    4. P2 will get $t_i =  r_i+x_i\\oplus y_i $ and $\\tau_i$\n",
      "    5. Both will get $Com(t_i, \\tau_i)$\n",
      "6. P2 will calculate  $T = \\sum_{i=1}^{n} t_i$\n",
      "7. first output options\n",
      "    1. P2 calculate $C = Com(T,\\tau)$ (equals to $\\bigodot_i C_i$)\n",
      "    2. P2 send $C$ to P1 and a zkp that $C$ commits to $T$\n",
      "    3. P1 computs $\\bigodot_i C_i$ and check $C=Com(T,\\tau)$\n",
      "    4. P1 computs $T-R$\n",
      "8. second output options\n",
      "    1. P1 computs $Com(2R+n,\\rho)$ ($\\bigodot_i A_i \\odot \\bigodot_i B_i$)\n",
      "    2. P1 send R to P2 and a commit that K commits $2R+n$\n",
      "    3. P2 computes $K= \\bigodot_i A_i \\odot \\bigodot_i B_i$ and check $K=Com(2R+n,\\rho)$.\n",
      "    4. P2 outputs $T-R$\n",
      "\n"
     ]
    },
    {
     "cell_type": "markdown",
     "metadata": {},
     "source": [
      "> Refer the origin paper for proofs."
     ]
    },
    {
     "cell_type": "code",
     "collapsed": false,
     "input": [],
     "language": "python",
     "metadata": {},
     "outputs": []
    }
   ],
   "metadata": {}
  }
 ]
}