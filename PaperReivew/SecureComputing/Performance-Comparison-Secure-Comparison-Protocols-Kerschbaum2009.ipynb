{
 "metadata": {
  "name": "",
  "signature": "sha256:0adf22fe4051303b8288b27be7dfcb1d3a9962ffcf3be30bd9b61b5ca61ed4d4"
 },
 "nbformat": 3,
 "nbformat_minor": 0,
 "worksheets": [
  {
   "cells": [
    {
     "cell_type": "heading",
     "level": 1,
     "metadata": {},
     "source": [
      "Performance Comparison of Secure Comparison Protocols"
     ]
    },
    {
     "cell_type": "markdown",
     "metadata": {},
     "source": [
      "[pdf](http://fkerschbaum.org/bps09a.pdf)\n",
      "\n",
      "_abstract_\n",
      "\n",
      "Secure Multiparty Computation (SMC) has gained\n",
      "tremendous importance with the growth of the Internet\n",
      "and E-commerce, where mutually untrusted parties need to\n",
      "jointly compute a function of their private inputs. However,\n",
      "SMC protocols usually have very high computational complexities,\n",
      "rendering them practically unusable. In this paper,\n",
      "we tackle the problem of comparing two input values\n",
      "in a secure distributed fashion. We propose efficient secure\n",
      "comparison protocols for both the homomorphic encryption\n",
      "and secret sharing schemes. We also give experimental results\n",
      "to show their practical relevance.\n",
      "\n"
     ]
    },
    {
     "cell_type": "markdown",
     "metadata": {},
     "source": [
      "# Overview"
     ]
    },
    {
     "cell_type": "markdown",
     "metadata": {},
     "source": [
      "## Comparing\n",
      "\n",
      "For a number file in $\\mathbb{Z}_n$. The negative number is mapped to the upper half.\n",
      "\n",
      "$$ [\\frac{n}{2}, n-1] \\equiv [-\\frac{n}{2},-1]$$\n",
      "\n",
      "To compare two values, we can get $d = x_0 - x_1 $ then to check whether the difference is positve or \"negative\".\n",
      "However we usually do no want to disclose this $d$ but only the sign of the value. What we can do is $d^{'} = rd$. The problem with this case is that if the party with decryption key can decrypt this value and do a factorization on the plaintext and have a chance to get $d$. To prevent this, we need another random $r^{'}$ then we get $rd-r^{'}$. \n",
      "\n",
      "\" We thus assume the existence of random values $r$ and $r^{\u2032}$, such that  $rd-r^{'}$ is statistically close to uniform on some set containing all possible values of $d$.\" \n",
      "\n",
      "random number is $k$ bit and input is $l$ bit, then $n$ should satisfy $\\log_2 {n} > k+l+2 $\n",
      "\n",
      "> kind of remembering there is paper discussing those parameter choosen. Need to find it out.\n",
      "\n",
      "\n",
      "> This paper is for multi-party secure computing. \n",
      "\n"
     ]
    },
    {
     "cell_type": "markdown",
     "metadata": {},
     "source": []
    },
    {
     "cell_type": "code",
     "collapsed": false,
     "input": [],
     "language": "python",
     "metadata": {},
     "outputs": []
    }
   ],
   "metadata": {}
  }
 ]
}