{
 "metadata": {
  "name": "",
  "signature": "sha256:284ca3031aed814820cad156f146d77cab3eafb60ad576d3e222fa94a350968f"
 },
 "nbformat": 3,
 "nbformat_minor": 0,
 "worksheets": [
  {
   "cells": [
    {
     "cell_type": "heading",
     "level": 1,
     "metadata": {},
     "source": [
      "GSHADE: Faster Privacy-Preserving Distance Computation and Biometric Identification"
     ]
    },
    {
     "cell_type": "markdown",
     "metadata": {},
     "source": [
      "[pdf](http://thomaschneider.de/papers/BCFPSZ14.pdf)\n",
      "\n",
      "_abstract_\n",
      "\n",
      "At WAHC\u201913, Bringer et al. introduced a protocol called\n",
      "SHADE for secure and efficient Hamming distance computation\n",
      "using oblivious transfer only. In this paper, we\n",
      "introduce a generalization of the SHADE protocol, called\n",
      "GSHADE, that enables privacy-preserving computation of\n",
      "several distance metrics, including (normalized) Hamming\n",
      "distance, Euclidean distance, Mahalanobis distance, and scalar\n",
      "product. GSHADE can be used to efficiently compute\n",
      "one-to-many biometric identification for several traits (iris,\n",
      "face, fingerprint) and benefits from recent optimizations of\n",
      "oblivious transfer extensions. GSHADE allows identification\n",
      "against a database of 1 000 Eigenfaces in 1.28 seconds and\n",
      "against a database of 10 000 IrisCodes in 17.2 seconds which\n",
      "is more than 10 times faster than previous works"
     ]
    },
    {
     "cell_type": "markdown",
     "metadata": {},
     "source": [
      "# Overview\n",
      "\n"
     ]
    }
   ],
   "metadata": {}
  }
 ]
}