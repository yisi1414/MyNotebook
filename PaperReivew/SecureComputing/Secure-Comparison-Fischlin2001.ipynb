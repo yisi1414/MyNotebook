{
 "metadata": {
  "name": "",
  "signature": "sha256:146784bdbea285c43cb3f7eb7eff535688c39be1597ec9b2c79c15e69ba5ac96"
 },
 "nbformat": 3,
 "nbformat_minor": 0,
 "worksheets": [
  {
   "cells": [
    {
     "cell_type": "heading",
     "level": 1,
     "metadata": {},
     "source": [
      "A Cost-Effective Pay-Per-Multiplication Comparison Method for Millionaires"
     ]
    },
    {
     "cell_type": "markdown",
     "metadata": {},
     "source": [
      "[pdf](http://www.math.uni-frankfurt.de/~dmst/research/papers/fischlin.millionaire.2001.pdf)"
     ]
    },
    {
     "cell_type": "markdown",
     "metadata": {},
     "source": [
      "## Abstract\n",
      "Based on the **quadratic residuosity assumption** we present\n",
      "a non-interactive crypto-computing protocol for the **greater-than** function,\n",
      "i.e., a non-interactive procedure between two parties such that only\n",
      "the relation of the parties\u2019 inputs is revealed. In comparison to previous\n",
      "solutions our protocol reduces the number of modular multiplications significantly.\n",
      "We also discuss applications to conditional oblivious transfer,\n",
      "private bidding and the millionaires\u2019 problem.\n"
     ]
    },
    {
     "cell_type": "markdown",
     "metadata": {},
     "source": [
      "## Crypto\n",
      "Goldwasser-Micali\n",
      "\n",
      "### Property\n",
      "1. xor\n",
      "2. not\n",
      "3. re-random\n",
      "\n",
      "honest-but-curious\n",
      "\n",
      "## Basic idea\n",
      "Comparing the most significant bit. Say $x_i$ and $y_i$ are the bit at index $i$.\n",
      "For some $i$, we have $x_i > y_i$ and for all the $y=\\{i+1, i+2, \\cdots, n\\}$ we have $x_i = y_j$, then we say $x$ is greater than $y$.\n"
     ]
    },
    {
     "cell_type": "code",
     "collapsed": false,
     "input": [
      "x= 100\n",
      "y= 1000\n",
      "bin_x  = bin(x)\n",
      "bin_y = bin(y)\n",
      "\n",
      "print(bin_x)\n",
      "print(bin_y)\n",
      "\n",
      "list_bin_x = list(bin_x)[2:]\n",
      "list_bin_y = list(bin_y)[2:]\n",
      "\n",
      "print(list_bin_x)\n",
      "print(list_bin_y)\n",
      "\n"
     ],
     "language": "python",
     "metadata": {},
     "outputs": [
      {
       "output_type": "stream",
       "stream": "stdout",
       "text": [
        "0b1100100\n",
        "0b1111101000\n",
        "['1', '1', '0', '0', '1', '0', '0']\n",
        "['1', '1', '1', '1', '1', '0', '1', '0', '0', '0']\n"
       ]
      }
     ],
     "prompt_number": 7
    },
    {
     "cell_type": "markdown",
     "metadata": {},
     "source": [
      "Their protocol is a bit-wise protocol.\n",
      "\n",
      "\n"
     ]
    },
    {
     "cell_type": "markdown",
     "metadata": {},
     "source": [
      "# TODO\n",
      "1. why coin flipping\n",
      "2. encryption embedding\n"
     ]
    }
   ],
   "metadata": {}
  }
 ]
}