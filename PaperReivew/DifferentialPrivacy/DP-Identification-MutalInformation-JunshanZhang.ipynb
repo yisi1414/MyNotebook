{
 "metadata": {
  "name": "",
  "signature": "sha256:a642768c9010d2250e1c2474f69d2db2b51b54060dcdb065ea02cb1d6c20bf0c"
 },
 "nbformat": 3,
 "nbformat_minor": 0,
 "worksheets": [
  {
   "cells": [
    {
     "cell_type": "heading",
     "level": 1,
     "metadata": {},
     "source": [
      "On the Relation Between Identifiability,\n",
      "Differential Privacy, and Mutual-Information Privacy\n"
     ]
    },
    {
     "cell_type": "markdown",
     "metadata": {},
     "source": [
      "[pdf]()\n",
      "\n",
      "_abstract_\n",
      "\n",
      "This paper investigates the relation between three\n",
      "different notions of privacy: identifiability, differential privacy\n",
      "and mutual-information privacy. Under a privacy distortion\n",
      "framework, where the distortion is defined to be the expected\n",
      "Hamming distance between the input and output databases, we\n",
      "establish some fundamental connections between these three privacy notions. Given a maximum distortion $D$, \n",
      "let $\\epsilon^{*}_i (D)$ denote the smallest (best) identifiability level, \n",
      "and $\\epsilon^{*}_d (D)$ the smallest differential privacy level. \n",
      "Then we characterize \n",
      "$\\epsilon^{*}_i (D)$ and $\\epsilon^{*}_d (D)$, and prove that \n",
      "$\\epsilon^{*}_i (D) - \\epsilon_{X} \\leq \\epsilon^{*}_d (D)  \\leq \\epsilon^{*}_i (D) $\n",
      "for $D$ in some range, where $X$ is a constant depending on the distribution of the original database $X$, and diminishes to zero when\n",
      "the distribution of $X$ is uniform. Furthermore, we show that\n",
      "identifiability and mutual-information privacy are consistent in\n",
      "the sense that given a maximum distortion $D$ in some range,\n",
      "there is a mechanism that optimizes the identifiability level and\n",
      "also achieves the best mutual-information privacy.\n"
     ]
    },
    {
     "cell_type": "markdown",
     "metadata": {},
     "source": [
      "## Overview\n",
      "\n",
      "Three different notations of privacy.\n",
      "\n",
      "**Identifiability:** posteriors of recovering the original data from the released data.\n",
      "\n",
      "**Differential Privacy:** the additional information leakage of an individual due to the release of the data\n",
      "\n",
      "**Mutual Information:** the amount of information about the original database contained in the released data.\n"
     ]
    },
    {
     "cell_type": "code",
     "collapsed": false,
     "input": [],
     "language": "python",
     "metadata": {},
     "outputs": []
    }
   ],
   "metadata": {}
  }
 ]
}