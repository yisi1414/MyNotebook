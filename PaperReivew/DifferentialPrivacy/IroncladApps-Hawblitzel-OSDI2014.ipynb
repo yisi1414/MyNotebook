{
 "metadata": {
  "name": "",
  "signature": "sha256:e78b2338126326818dfc5220caadc8f2a0d4c157955f688b63ac499a17fe53ae"
 },
 "nbformat": 3,
 "nbformat_minor": 0,
 "worksheets": [
  {
   "cells": [
    {
     "cell_type": "heading",
     "level": 1,
     "metadata": {},
     "source": [
      "Ironclad Apps: End-to-End Security\n",
      "via Automated Full-System Verification"
     ]
    },
    {
     "cell_type": "markdown",
     "metadata": {},
     "source": [
      "[pdf](https://www.usenix.org/system/files/conference/osdi14/osdi14-paper-hawblitzel.pdf)"
     ]
    },
    {
     "cell_type": "markdown",
     "metadata": {},
     "source": [
      "_abstract_\n",
      "\n",
      "An Ironclad App lets a user securely transmit her data to\n",
      "a remote machine with the guarantee that every instruction\n",
      "executed on that machine adheres to a formal abstract\n",
      "specification of the app\u2019s behavior. This does more than\n",
      "eliminate implementation vulnerabilities such as buffer\n",
      "overflows, parsing errors, or data leaks; it tells the user\n",
      "exactly how the app will behave at all times. We provide\n",
      "these guarantees via complete, low-level software verifi-\n",
      "cation. We then use cryptography and secure hardware\n",
      "to enable secure channels from the verified software to\n",
      "remote users. To achieve such complete verification, we\n",
      "developed a set of new and modified tools, a collection\n",
      "of techniques and engineering disciplines, and a methodology\n",
      "focused on rapid development of verified systems\n",
      "software. We describe our methodology, formal results,\n",
      "and lessons we learned from building a full stack of verified\n",
      "software. That software includes a verified kernel;\n",
      "verified drivers; verified system and crypto libraries including\n",
      "SHA, HMAC, and RSA; and four Ironclad Apps"
     ]
    },
    {
     "cell_type": "markdown",
     "metadata": {},
     "source": [
      "## Differential Privacy\n",
      "\n",
      "This paper has a DP service in the system as an app.\n",
      "\n"
     ]
    },
    {
     "cell_type": "code",
     "collapsed": false,
     "input": [],
     "language": "python",
     "metadata": {},
     "outputs": []
    }
   ],
   "metadata": {}
  }
 ]
}