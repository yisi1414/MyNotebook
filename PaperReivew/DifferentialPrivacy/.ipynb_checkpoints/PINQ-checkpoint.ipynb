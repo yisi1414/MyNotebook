{
 "metadata": {
  "name": "",
  "signature": "sha256:14def9df97831e73df156546aa4aa13933127dc736ca83cef356021f17d2475a"
 },
 "nbformat": 3,
 "nbformat_minor": 0,
 "worksheets": [
  {
   "cells": [
    {
     "cell_type": "heading",
     "level": 1,
     "metadata": {},
     "source": [
      "Privacy Integrated Queries\n",
      "An Extensible Platform for Privacy-Preserving Data Analysis"
     ]
    },
    {
     "cell_type": "markdown",
     "metadata": {},
     "source": [
      "[pdf](http://research.microsoft.com/pubs/80218/sigmod115-mcsherry.pdf?origin=publication_detail)\n",
      "\n",
      "_abstract_\n",
      "\n",
      "We report on the design and implementation of the Privacy\n",
      "Integrated Queries (PINQ) platform for privacy-preserving\n",
      "data analysis. PINQ provides analysts with a programming\n",
      "interface to unscrubbed data through a SQL-like language.\n",
      "At the same time, the design of PINQ\u2019s analysis language\n",
      "and its careful implementation provide formal guarantees\n",
      "of differential privacy for any and all uses of the platform.\n",
      "PINQ\u2019s unconditional structural guarantees require no trust\n",
      "placed in the expertise or diligence of the analysts, substantially\n",
      "broadening the scope for design and deployment of\n",
      "privacy-preserving data analysis, especially by non-experts."
     ]
    },
    {
     "cell_type": "code",
     "collapsed": false,
     "input": [],
     "language": "python",
     "metadata": {},
     "outputs": []
    }
   ],
   "metadata": {}
  }
 ]
}