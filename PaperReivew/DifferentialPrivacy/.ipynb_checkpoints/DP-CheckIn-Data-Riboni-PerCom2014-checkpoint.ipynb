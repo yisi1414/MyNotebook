{
 "metadata": {
  "name": "",
  "signature": "sha256:ccb60b4858e4de35ac89e10c9d46bee183f951a17c9838e3f2e429d58fbc9293"
 },
 "nbformat": 3,
 "nbformat_minor": 0,
 "worksheets": [
  {
   "cells": [
    {
     "cell_type": "code",
     "collapsed": false,
     "input": [],
     "language": "python",
     "metadata": {},
     "outputs": []
    }
   ],
   "metadata": {}
  }
 ]
}