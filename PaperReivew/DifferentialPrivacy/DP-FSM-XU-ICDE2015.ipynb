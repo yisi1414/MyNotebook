{
 "metadata": {
  "name": "",
  "signature": "sha256:dad967db2cc5432465c561135a432a14cb362e3e192f674b7c9dd5bf81128bdb"
 },
 "nbformat": 3,
 "nbformat_minor": 0,
 "worksheets": [
  {
   "cells": [
    {
     "cell_type": "heading",
     "level": 1,
     "metadata": {},
     "source": [
      "Differentially Private Frequent Sequence Mining via\n",
      "Sampling-based Candidate Pruning"
     ]
    },
    {
     "cell_type": "markdown",
     "metadata": {},
     "source": [
      "[pdf]()\n",
      "\n",
      "\n",
      "_abstract_ \n",
      "\n",
      "In this paper, we study the problem of mining\n",
      "frequent sequences under the rigorous differential privacy model.\n",
      "We explore the possibility of designing a differentially private\n",
      "frequent sequence mining (FSM) algorithm which can achieve\n",
      "both high data utility and a high degree of privacy. We found,\n",
      "in differentially private FSM, the amount of required noise\n",
      "is proportionate to the number of candidate sequences. If we\n",
      "could effectively reduce the number of unpromising candidate\n",
      "sequences, the utility and privacy tradeoff can be significantly\n",
      "improved. To this end, by leveraging a sampling-based candidate\n",
      "pruning technique, we propose a novel differentially private FSM\n",
      "algorithm, which is referred to as PFS2\n",
      ". The core of our algorithm\n",
      "is to utilize sample databases to further prune the candidate\n",
      "sequences generated based on the downward closure property.\n",
      "In particular, we use the noisy local support of candidate\n",
      "sequences in the sample databases to estimate which sequences\n",
      "are potentially frequent. To improve the accuracy of such private\n",
      "estimations, a sequence shrinking method is proposed to enforce\n",
      "the length constraint on the sample databases. Moreover, to\n",
      "decrease the probability of misestimating frequent sequences as\n",
      "infrequent, a threshold relaxation method is proposed to relax\n",
      "the user-specified threshold for the sample databases. Through\n",
      "formal privacy analysis, we show that our PFS2\n",
      "algorithm is\n",
      "\u03f5-differentially private. Extensive experiments on real datasets\n",
      "illustrate that our PFS2\n",
      "algorithm can privately find frequent\n",
      "sequences with high accuracy."
     ]
    }
   ],
   "metadata": {}
  }
 ]
}