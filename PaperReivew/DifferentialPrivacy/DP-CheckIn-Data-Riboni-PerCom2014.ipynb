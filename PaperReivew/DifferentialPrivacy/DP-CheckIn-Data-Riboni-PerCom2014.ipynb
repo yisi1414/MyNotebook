{
 "metadata": {
  "name": "",
  "signature": "sha256:da07811a9b794575ef4468c13fa346e65bf104dea6d20132e9adfc92780f1420"
 },
 "nbformat": 3,
 "nbformat_minor": 0,
 "worksheets": [
  {
   "cells": [
    {
     "cell_type": "heading",
     "level": 1,
     "metadata": {},
     "source": [
      "Differentially-Private Release of Check-in Data\n",
      "for Venue Recommendation\n"
     ]
    },
    {
     "cell_type": "markdown",
     "metadata": {},
     "source": [
      "[]()\n",
      "\n",
      "_abstract_\n",
      "\n",
      "Recommender systems suggesting venues offer very\n",
      "useful services to people on the move and a great business\n",
      "opportunity for advertisers. These systems suggest venues by\n",
      "matching the current context of the user with the venue features,\n",
      "and consider the popularity of venues, based on the number of\n",
      "visits (\u201ccheck-ins\u201d) that they received. Check-ins may be explicitly\n",
      "communicated by users to geo-social networks, or implicitly\n",
      "derived by analysing location data collected by mobile services. In\n",
      "general, the visibility of explicit check-ins is limited to friends in\n",
      "the social network, while the visibility of implicit check-ins limited\n",
      "to the service provider. Exposing check-ins to unauthorized users\n",
      "is a privacy threat since recurring presence in given locations may\n",
      "reveal political opinions, religious beliefs, or sexual orientation, as\n",
      "well as absence from other locations where the user is supposed\n",
      "to be. Hence, on one side mobile app providers host valuable\n",
      "information that recommender system providers would like to\n",
      "buy and use to improve their systems, and on the other we\n",
      "recognize serious privacy issues in releasing that information.\n",
      "In this paper, we solve this dilemma by providing formal privacy\n",
      "guarantees to users and trusted mobile providers while preserving\n",
      "the utility of check-in information for recommendation purposes.\n",
      "Our technique is based on the use of differential privacy methods\n",
      "integrated with a pre-filtering process, and protects against both\n",
      "an untrusted recommender system and its users, willing to infer\n",
      "the venues and sensitive locations visited by other users. Extensive\n",
      "experiments with a large dataset of real users\u2019 check-ins show\n",
      "the effectiveness of our methods.\n"
     ]
    },
    {
     "cell_type": "code",
     "collapsed": false,
     "input": [],
     "language": "python",
     "metadata": {},
     "outputs": []
    }
   ],
   "metadata": {}
  }
 ]
}