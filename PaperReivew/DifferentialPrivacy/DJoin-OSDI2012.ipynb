{
 "metadata": {
  "name": "",
  "signature": "sha256:d2224beeb83fdd87eea20cc73bda9eea917875d01eacb770e5d4e91c53b4e987"
 },
 "nbformat": 3,
 "nbformat_minor": 0,
 "worksheets": [
  {
   "cells": [
    {
     "cell_type": "heading",
     "level": 1,
     "metadata": {},
     "source": [
      "DJoin: Differentially Private Join Queries over Distributed Databases"
     ]
    },
    {
     "cell_type": "markdown",
     "metadata": {},
     "source": [
      "[usenix](https://www.usenix.org/conference/osdi12/technical-sessions/presentation/narayan)\n",
      "\n",
      "_abstract_\n",
      "\n",
      "In this paper, we study the problem of answering queries\n",
      "about private data that is spread across multiple different\n",
      "databases. For instance, a medical researcher may want\n",
      "to study a possible correlation between travel patterns\n",
      "and certain types of illnesses. The necessary information\n",
      "exists today \u2013 e.g., in airline reservation systems\n",
      "and hospital records \u2013 but it is maintained by two separate\n",
      "companies who are prevented by law from sharing\n",
      "this information with each other, or with a third party.\n",
      "This separation prevents the processing of such queries,\n",
      "even if the final answer, e.g., a correlation coefficient,\n",
      "would be safe to release.\n",
      "We present DJoin, a system that can process such distributed\n",
      "queries and can give strong differential privacy\n",
      "guarantees on the result. DJoin can support many SQLstyle\n",
      "queries, including joins of databases maintained by\n",
      "different entities, as long as they can be expressed using\n",
      "DJoin\u2019s two novel primitives: BN-PSI-CA, a differentially\n",
      "private form of private set intersection cardinality,\n",
      "and DCR, a multi-party combination operator that\n",
      "can aggregate noised cardinalities without compounding\n",
      "the individual noise terms. Our experimental evaluation\n",
      "shows that DJoin can process realistic queries at practical\n",
      "timescales: simple queries on three databases with\n",
      "15,000 rows each take between 1 and 7.5 hours."
     ]
    },
    {
     "cell_type": "markdown",
     "metadata": {},
     "source": [
      "## Overview\n",
      "\n",
      "\n"
     ]
    },
    {
     "cell_type": "code",
     "collapsed": false,
     "input": [],
     "language": "python",
     "metadata": {},
     "outputs": []
    }
   ],
   "metadata": {}
  }
 ]
}