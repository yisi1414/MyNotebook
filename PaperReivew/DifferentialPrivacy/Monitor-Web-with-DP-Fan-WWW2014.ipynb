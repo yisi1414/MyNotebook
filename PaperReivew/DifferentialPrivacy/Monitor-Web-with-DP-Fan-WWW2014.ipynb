{
 "metadata": {
  "name": "",
  "signature": "sha256:6914426eccff26e1a39b76c52f51d15c68a1afa69609fca8c3bd443309aed08c"
 },
 "nbformat": 3,
 "nbformat_minor": 0,
 "worksheets": [
  {
   "cells": [
    {
     "cell_type": "heading",
     "level": 1,
     "metadata": {},
     "source": [
      "Monitoring Web Browsing Behavior with Differential\n",
      "Privacy"
     ]
    },
    {
     "cell_type": "markdown",
     "metadata": {},
     "source": [
      "[pdf](http://www.mathcs.emory.edu/aims/pub/fan14www.pdf)"
     ]
    },
    {
     "cell_type": "markdown",
     "metadata": {},
     "source": [
      "_abstract_\n",
      "\n",
      "Monitoring web browsing behavior has benefited many data mining\n",
      "applications, such as top-K discovery and anomaly detection.\n",
      "However, releasing private user data to the greater public would\n",
      "concern web users about their privacy, especially after the incident\n",
      "of AOL search log release where anonymization was not correctly\n",
      "done. In this paper, we adopt differential privacy, a strong, provable\n",
      "privacy definition, and show that differentially private aggregates\n",
      "of web browsing activities can be released in real-time while preserving\n",
      "the utility of shared data. Our proposed algorithms utilize\n",
      "the rich correlation of the time series of aggregated data and adopt\n",
      "a state-space approach to estimate the underlying, true aggregates\n",
      "from the perturbed values by the differential privacy mechanism.\n",
      "We evaluate our algorithms with real-world web browsing data.\n",
      "Utility evaluations with three metrics demonstrate that the quality\n",
      "of the private, released data by our solutions closely resembles that\n",
      "of the original, unperturbed aggregates."
     ]
    },
    {
     "cell_type": "markdown",
     "metadata": {},
     "source": [
      "## Overview\n",
      "\n",
      "\n",
      "** problem ** \n",
      "\n",
      "How to share user web browsing behavior in a Differential Privacy way?\n",
      "\n",
      "\n",
      "** contributions **\n",
      "\n",
      "> \"(1) We propose a state-space approach to monitoring aggregated\n",
      "web browsing activities under differential privacy. The standard\n",
      "differential privacy mechanism injects perturbation noise into the\n",
      "true aggregates at every time stamp, resulting in high perturbation\n",
      "error in the released data. We consider the true aggregates at every\n",
      "time stamp as \u201chidden\u201d states, and the perturbed aggregates\n",
      "obtained from differential privacy mechanism as \u201cnoisy\u201d observations.\n",
      "Based on the known perturbation mechanism, we propose\n",
      "to release the posterior estimates of \u201chidden\u201d states, which are statistically\n",
      "more accurate than the purely perturbed values, for web\n",
      "monitoring tasks.\n",
      "(2) We design two algorithms based on time series state-space\n",
      "models to release differentially private aggregates in real-time. The\n",
      "first algorithm extends our previously proposed FAST framework [14]\n",
      "and establishes a univariate time series model for the count series\n",
      "of every web page. The second algorithm establishes a multivariate\n",
      "time series model for simultaneously monitoring the visits to all\n",
      "web pages and utilizes the Markov property of web navigation for\n",
      "accurate process modeling. The Kalman filter based posterior estimation\n",
      "technique is used by both algorithms to enhance the utility\n",
      "of released data. We propose to approximately model the Laplace\n",
      "perturbation noise as Gaussian and formally analyze the optimal\n",
      "choice of Gaussian variance in the specific web browsing setting.\n",
      "(3) We demonstrate how to learn the model parameters for our\n",
      "proposed approaches from a small set of training data. We then\n",
      "select three utility metrics, including average relative error, precision\n",
      "for top-K mining, and KL-divergence, and show that the\n",
      "usefulness of private released data values by our methods closely\n",
      "resembles that of the original unperturbed data. The experiments\n",
      "with real-data collected from msnbc.com confirm that our proposed\n",
      "methods release useful aggregates in real-time without compromising\n",
      "individual privacy. We believe that they can be applied\n",
      "to enable a wide range of web monitoring tasks.\""
     ]
    },
    {
     "cell_type": "code",
     "collapsed": false,
     "input": [],
     "language": "python",
     "metadata": {},
     "outputs": []
    }
   ],
   "metadata": {}
  }
 ]
}