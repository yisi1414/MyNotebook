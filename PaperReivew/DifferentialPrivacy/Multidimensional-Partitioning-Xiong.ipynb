{
 "metadata": {
  "name": "",
  "signature": "sha256:03c8c4a9078f5aa25973d304d65988c00e6822c69a7b8cdf029286d9bf9cf234"
 },
 "nbformat": 3,
 "nbformat_minor": 0,
 "worksheets": [
  {
   "cells": [
    {
     "cell_type": "heading",
     "level": 1,
     "metadata": {},
     "source": [
      "Differentially Private Data Release through\n",
      "Multidimensional Partitioning"
     ]
    },
    {
     "cell_type": "markdown",
     "metadata": {},
     "source": [
      "[pdf](http://www.mathcs.emory.edu/~lxiong/research/pub/sdm10.pdf)"
     ]
    },
    {
     "cell_type": "markdown",
     "metadata": {},
     "source": [
      "_abstract_\n",
      "\n",
      "Differential privacy is a strong notion for protecting individual\n",
      "privacy in privacy preserving data analysis or publishing. In this\n",
      "paper, we study the problem of differentially private histogram release\n",
      "based on an **interactive** differential privacy interface. We propose two\n",
      "multidimensional partitioning strategies including a baseline cell-based\n",
      "partitioning and an innovative kd-tree based partitioning. In addition to\n",
      "providing formal proofs for differential privacy and usefulness guarantees\n",
      "for linear distributive queries , we also present a set of experimental\n",
      "results and demonstrate the feasibility and performance of our method."
     ]
    },
    {
     "cell_type": "markdown",
     "metadata": {},
     "source": [
      "## Background\n",
      "\n",
      "> \"There are two models for\n",
      "privacy protection [5]: the interactive model and the non-interactive model. In\n",
      "the interactive model, a trusted curator (e.g. hospital) collects data from record\n",
      "owners (e.g. patients) and provides an access mechanism for data users (e.g.\n",
      "public health researchers) for querying or analysis purposes. The result returned\n",
      "from the access mechanism is perturbed by the mechanism to protect privacy.\n",
      "In the non-interactive model, the curator publishes a \u201csanitized\u201d version of the\n",
      "data, simultaneously providing utility for data users and privacy protection for\n",
      "the individuals represented in the data.\""
     ]
    },
    {
     "cell_type": "markdown",
     "metadata": {},
     "source": [
      "## Research Problem\n",
      "\n",
      "> \" differentially private histogram release\n",
      "based on an interactive differential privacy interface\""
     ]
    },
    {
     "cell_type": "code",
     "collapsed": false,
     "input": [],
     "language": "python",
     "metadata": {},
     "outputs": []
    }
   ],
   "metadata": {}
  }
 ]
}