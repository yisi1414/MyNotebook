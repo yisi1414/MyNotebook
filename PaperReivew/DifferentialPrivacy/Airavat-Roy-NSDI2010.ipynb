{
 "metadata": {
  "name": "",
  "signature": "sha256:2d3ae87cfe6ecefa8f00d5e64bbb521eeef11825cb8ac5c06122773588737931"
 },
 "nbformat": 3,
 "nbformat_minor": 0,
 "worksheets": [
  {
   "cells": [
    {
     "cell_type": "heading",
     "level": 1,
     "metadata": {},
     "source": [
      "Airavat: Security and Privacy for MapReduce"
     ]
    },
    {
     "cell_type": "markdown",
     "metadata": {},
     "source": [
      "[pdf](http://z.cs.utexas.edu/users/osa/airavat/pub/roy10nsdi-airavat.pdf)"
     ]
    },
    {
     "cell_type": "markdown",
     "metadata": {},
     "source": [
      "_abstract_\n",
      "\n",
      "We present Airavat, a MapReduce-based system which\n",
      "provides strong security and privacy guarantees for distributed\n",
      "computations on sensitive data. Airavat is a\n",
      "novel integration of mandatory access control and differential\n",
      "privacy. Data providers control the security policy\n",
      "for their sensitive data, including a mathematical bound\n",
      "on potential privacy violations. Users without security\n",
      "expertise can perform computations on the data, but Airavat\n",
      "confines these computations, preventing information\n",
      "leakage beyond the data provider\u2019s policy.\n",
      "Our prototype implementation demonstrates the flexibility\n",
      "of Airavat on several case studies. The prototype is\n",
      "efficient, with run times on Amazon\u2019s cloud computing\n",
      "infrastructure within 32% of a MapReduce system with\n",
      "no security"
     ]
    },
    {
     "cell_type": "markdown",
     "metadata": {},
     "source": [
      "## Overview\n",
      "\n",
      "> \"One of the challenges of bringing security to cloud\n",
      "computing is that users and developers want to spend as\n",
      "little mental effort and system resources on security as\n",
      "possible\"\n",
      "\n",
      "** a key research question **\n",
      "\n",
      "> \"how to design a practical system that (1) enables\n",
      "efficient distributed computations, (2) supports a\n",
      "familiar programming model, and (3) provides precise,\n",
      "rigorous privacy and security guarantees to data owners,\n",
      "even when the code performing the computation is untrusted.\n",
      "In this paper, we aim to answer this question.\"\n"
     ]
    },
    {
     "cell_type": "markdown",
     "metadata": {},
     "source": [
      "** contributions **\n",
      "\n",
      "> \"We describe the design and implementation\n",
      "of Airavat. Airavat enables the execution of\n",
      "trusted and untrusted MapReduce computations on sensitive\n",
      "data, while assuring comprehensive enforcement\n",
      "of data providers\u2019 privacy policies. To prevent information\n",
      "leaks through system resources, Airavat runs on\n",
      "SELinux [37] and adds SELinux-like mandatory access\n",
      "control to the MapReduce distributed file system. To prevent\n",
      "leaks through the output of the computation, Airavat\n",
      "enforces differential privacy using modifications to\n",
      "the Java Virtual Machine and the MapReduce framework.\n",
      "Access control and differential privacy are synergistic: if\n",
      "a MapReduce computation is differentially private, the\n",
      "security level of its result can be safely reduced.\n",
      "To show the practicality of Airavat, we carry out several\n",
      "substantial case studies. These focus on privacypreserving\n",
      "data-mining and data-analysis algorithms,\n",
      "such as clustering and classification. The Airavat prototype\n",
      "for these experiments is based on the Hadoop framework\n",
      "[2], executing in Amazon\u2019s EC2 compute cloud environment.\n",
      "In our experiments, Airavat produced accurate,\n",
      "yet privacy-preserving answers with runtimes within\n",
      "32% of conventional MapReduce.\n",
      "Airavat provides a practical basis for secure, privacypreserving,\n",
      "large-scale, distributed computations. Potential\n",
      "applications include a wide variety of cloud-based\n",
      "computing services with provable privacy guarantees, including\n",
      "genomic analysis, outsourced data mining, and\n",
      "clickstream-based advertising.\""
     ]
    },
    {
     "cell_type": "markdown",
     "metadata": {},
     "source": [
      "## Differential privacy\n",
      "\n",
      "> this is the part I am interested in. \n",
      "\n",
      "\n",
      "##### Privacy budget\n",
      "\n",
      "\"Privacy budge\" is a concept here used to limite the number of queries to the DP database.\n",
      "\n",
      "\n"
     ]
    },
    {
     "cell_type": "markdown",
     "metadata": {},
     "source": [
      "# Implementation\n",
      "\n",
      "[homepage](http://z.cs.utexas.edu/users/osa/airavat/)"
     ]
    },
    {
     "cell_type": "code",
     "collapsed": false,
     "input": [],
     "language": "python",
     "metadata": {},
     "outputs": []
    }
   ],
   "metadata": {}
  }
 ]
}