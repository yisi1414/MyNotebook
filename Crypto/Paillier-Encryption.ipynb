{
 "metadata": {
  "name": "",
  "signature": "sha256:0af62003f2b162a401fc703df74f8195600405e27158abbe946c20c9591cd556"
 },
 "nbformat": 3,
 "nbformat_minor": 0,
 "worksheets": [
  {
   "cells": [
    {
     "cell_type": "heading",
     "level": 1,
     "metadata": {},
     "source": [
      "Basic Knowledge"
     ]
    },
    {
     "cell_type": "markdown",
     "metadata": {},
     "source": [
      "## Composite Degree residuosity Classes\n",
      "\n",
      "n-th degree modulo problem\n"
     ]
    },
    {
     "cell_type": "code",
     "collapsed": false,
     "input": [
      "p=5 # first prime\n",
      "q=7 # second prime\n",
      "n = p*q # rsa modulo\n",
      "nSquare = n**2 # quadratic modulo\n",
      "lambdaa = 12  # lcm(p-1)(q-1)\n",
      "g = 141 # random choose in n^2\n",
      "\n",
      "# encrpt first value x1\n",
      "x1 = 1\n",
      "r1 = 4 # randomizer\n",
      "ct1 = (g**x1 * 4**35 ) % nSquare\n",
      "print(\"ct1 is \"+str(ct1))\n",
      "\n",
      "# encrypt second value x2\n",
      "\n"
     ],
     "language": "python",
     "metadata": {},
     "outputs": [
      {
       "output_type": "stream",
       "stream": "stdout",
       "text": [
        "ct1 is 359\n"
       ]
      }
     ],
     "prompt_number": 6
    },
    {
     "cell_type": "markdown",
     "metadata": {},
     "source": [
      "# Reference\n",
      "1. http://www.cs.rit.edu/~arl9577/crypto/alange-presentation.pdf\n"
     ]
    },
    {
     "cell_type": "heading",
     "level": 2,
     "metadata": {},
     "source": [
      "Mathematic in Paillier Encryption"
     ]
    },
    {
     "cell_type": "markdown",
     "metadata": {},
     "source": [
      "\n",
      "\n",
      "> This post will briefly introduce hard problems which are related to Paillier cryptosystem.\n",
      "\n",
      "\n",
      "\n",
      "## Mathematic basics\n",
      "\n",
      "\n",
      "$\\mathbb{Z}_k $ is defined as an integer group modulo $k$, which  means it contains all integer less then $k$, formally definition: $ \\{ z| z\\in \\mathbb{Z}, 0 \\leq z < k\\}$. A multiplicative group is defined as $\\mathbb{Z}_k^{*} = \\{ z| z\\in \\mathbb{Z}, 0 \\leq z < k, \\gcd(z,k)=1\\}$. \n",
      "\n",
      "###  More about Euler phi function(Euler\u2019s totient function)\n",
      "In [last post](http://yishanhe.net/RSA-made-easy/), I introduced a little bit about Euler phi function, $\\phi(n)$ means the number of integers in $[1,n]$ which are relatively prime to $n$. The easy case is that a prime number $p$, $\\phi(p)=p-1$. It has multiplicative property, however, those element must be co-prime, $\\gcd(m,n)=1$, then $\\phi(mn)=\\phi(m)\\phi(n)$.\n",
      "\n",
      "We know that any number can be factorized using prime numbers. Say we have a number $n = p_1^{e_1}p_2^{e_2} \\cdots p_k^{e_k}$. Useing multiplicative property, we can get $ \\phi(n) = \\phi(p_1^{e_1}) \\phi(p_2^{e_2}) \\cdots \\phi(p_k^{e_k}) $. To calculate $ \\phi(p^e)$, we need to think about what is the meaning of $\\phi$-function. In the range of $[1, p^e-1] $, those numbers, $ T = \\{ p, p^2, p^3, \\cdots, p^{e-1} \\}$, have greatest common divisor with $p^e$ which are not 1. Similar, for any element in set $T$, its multipier such as $ \\{ p, 2p, 3p, \\cdots, kp\\}$ where $kp \\leq p^e $. So how many of those values ?  It should be $ k = p^{e-1} $, the rest are $ \\phi(p^e) = p^e - p^{e-1} = p^e (1-\\frac{1}{p} )$. \n",
      "$$ \\phi(n) = n(1-\\frac{1}{p_1})(1-\\frac{1}{p_2}) \\cdots (1-\\frac{1}{p_k}) $$\n",
      "If given a number $x^2$, we know that each $x$ can be taken as n in the previous euqation, simliarily, we have $\\phi(p^{2e}) = p^{2e}(1-\\frac{1}{p}) $. Thus \n",
      "$$ \\phi(x^2) = \\prod_i (p_i^{2e_i}(1-\\frac{1}{p_i})) =  (\\prod_i p_i^{e_i})(\\prod_i p_i^{e_i}(1-\\frac{1}{p_i}) ) = x\\phi(x)  $$\n",
      "\n",
      "\n",
      "## Composite Residuosity Class\n",
      "\n",
      "Paillier problem is based on the high degree residue.\n",
      "\n",
      "### Notations\n",
      "\n",
      "$ n = p q$, where $p$, $q$ are large prime numbers. \n",
      "$\\lambda(n)$ is the Carmichael\u2019s function and $\\phi(n)$ is the Euler\u2019s totient function. \n",
      "\n",
      "*Facts:*\n",
      "\n",
      "1. $\\lambda(n) = \\mathbf{lcm}(p-1)(q-1)$\n",
      "2. $\\phi(n) = (p-1)(q-1)$\n",
      "3. $|\\mathbb{Z}_{n^2}^{*}| = \\phi(n^2) = n \\phi(n)$.\n",
      "\n",
      "\n",
      "*Carmichael\u2019s theorem*\n",
      "\n",
      "For any $w \\in \\mathbb{Z}_{n^2}^{*}$, we have\n",
      "$$ w^{\\lambda} = 1 \\mod n$$\n",
      "$$w^{n\\lambda} = 1 \\mod n^2 $$\n",
      "\n",
      "\n",
      "\n",
      "### $n$-th residues modulo $n^2$\n",
      "\n",
      "A number $z \\in \\mathbb{Z}^{*}_{n^2}$ is an $n$-th residues modulo $n^2$ if there exists a number $y \\in \\mathbb{Z}^{*}_{n^2}$ such that \n",
      "$$ z = y^n \\mod n^2 $$\n",
      "The problem to decide whether or not a given $z \\in \\mathbb{Z}^{*}_{n^2}$ is an $n$-th residues modulo $n^2$ is hard in polynomial time.\n",
      "\n",
      "*Fact:*  The set of n-th residues is a multiplicative subgroup of $\\mathbb{Z}^{*}_{n^2}$ of order $\\phi(n)$.\n",
      "\n",
      "THis deicision problem is called Decisional Composite Residuosity Assumption (DCRA) in Paillier paper[1].\n",
      "\n",
      "### Root of unity\n",
      "\n",
      "A $n$-th root of unity, where $n$ is a positive integer, is a number $z$ satisfying $$ z^n = 1$$\n",
      "Furthur, we call a $n$-th root of unity is primitive if for any $k < n$, $$ z^k \\neq 1$$\n",
      "\n",
      "There are some facts we need to know.\n",
      "\n",
      "1. $z$ is the $n$-th root of unity, if and only if  $a \\equiv b \\mod n$, then $z^a = z^b$. This is the property of unity.\n",
      "\n",
      "2. A integer power of an $n$-th root of unity is also an $n$-th root of unity.\n",
      "\n",
      "\n",
      "### $n$-th root of unity in $ \\mathbb{Z}_{n^2}^{*} $\n",
      "\n",
      "\n",
      "For, any $x$ in $\\mathbb{Z}_{n}$, root of unity in $ (\\mathbb{Z}_{n^2}^{*},\\cdot) $ are in the form of $$ (1+n)^x = 1+xn \\mod n^2$$\n",
      "To provde the quality of above euqation, we can use inductino.\n",
      "To see why this is root of unity, we can calculate the $n$-th root of unity, $$((1+n)^x)^n = 1+(xn)n \\mod n^2 = 1 \\mod n^2 $$. Note that $(1+n)^x \\in \\mathbb{Z}_{n^2}^{*}$ because, $\\gcd(1+xn ,n^2)=1$.\n",
      "\n",
      "\n",
      "\n",
      "\n",
      "> Next post will talk about Computing in Composite Residuosity Classes\n",
      "\n",
      "\n",
      "\n",
      "## Reference\n",
      "1. http://www.cs.tau.ac.il/~fiat/crypt07/papers/Pai99pai.pdf\n",
      "2. http://en.wikipedia.org/wiki/Carmichael_function\n",
      "\n",
      "\n",
      "\n"
     ]
    },
    {
     "cell_type": "code",
     "collapsed": false,
     "input": [],
     "language": "python",
     "metadata": {},
     "outputs": []
    }
   ],
   "metadata": {}
  }
 ]
}