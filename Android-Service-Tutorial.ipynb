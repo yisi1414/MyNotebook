{
 "metadata": {
  "name": "",
  "signature": "sha256:22d7c9d2a968a8b9f9e924207528da2e79aff41654f8b01575117db4e8f50730"
 },
 "nbformat": 3,
 "nbformat_minor": 0,
 "worksheets": [
  {
   "cells": [
    {
     "cell_type": "heading",
     "level": 1,
     "metadata": {},
     "source": [
      "Notes on Android Service"
     ]
    },
    {
     "cell_type": "markdown",
     "metadata": {},
     "source": [
      "# Definition\n",
      "\n",
      "From [Android Developer Site](http://developer.android.com/reference/android/app/Service.html#WhatIsAService)\n",
      "\n",
      "_Basic Feature_\n",
      "\n",
      "* \"A facility for an application to expose some of its functionality to other applications. This corresponds to calls to `Context.bindService()`, which allows a long-standing connection to be made to the service in order to interact with it.\"\n",
      "* \"A facility for the application to tell the system about something it wants to be doing in the background (even when the user is not directly interacting with the application). This corresponds to calls to `Context.startService()`, which ask the system to schedule work for the service, to be run until the service or someone else explicitly stop it.\"\n",
      "\n",
      "\n",
      "_NOT_\n",
      "\n",
      "* it is not necessarily a separate process. \"unless otherwise specified, it runs in the same process as the application it is part of.\" (It is up to the developer, whether to create a secondary thread to finish the work.)\n",
      "* \"A Service is not a thread. It is not a means itself to do work off of the main thread (to avoid Application Not Responding errors)\"\n",
      "\n"
     ]
    },
    {
     "cell_type": "code",
     "collapsed": false,
     "input": [
      "from IPython.display import display\n",
      "from IPython.display import Image"
     ],
     "language": "python",
     "metadata": {},
     "outputs": [],
     "prompt_number": 1
    },
    {
     "cell_type": "markdown",
     "metadata": {},
     "source": [
      "# Life Circle\n",
      "\n",
      "[Ref](http://www.tutorialspoint.com/android/android_services.htm)"
     ]
    },
    {
     "cell_type": "code",
     "collapsed": false,
     "input": [
      "Image(url='http://www.tutorialspoint.com/android/images/android_service_lifecycle.jpg')"
     ],
     "language": "python",
     "metadata": {},
     "outputs": [
      {
       "html": [
        "<img src=\"http://www.tutorialspoint.com/android/images/android_service_lifecycle.jpg\"/>"
       ],
       "metadata": {},
       "output_type": "pyout",
       "prompt_number": 2,
       "text": [
        "<IPython.core.display.Image at 0x1099cb510>"
       ]
      }
     ],
     "prompt_number": 2
    },
    {
     "cell_type": "code",
     "collapsed": false,
     "input": [],
     "language": "python",
     "metadata": {},
     "outputs": []
    }
   ],
   "metadata": {}
  }
 ]
}