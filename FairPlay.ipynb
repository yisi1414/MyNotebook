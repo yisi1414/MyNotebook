{
 "metadata": {
  "name": "",
  "signature": "sha256:a166638e95aa32100e7543bcc8e90fa08186eb1942babcb0cb216c9baacb4edc"
 },
 "nbformat": 3,
 "nbformat_minor": 0,
 "worksheets": [
  {
   "cells": [
    {
     "cell_type": "markdown",
     "metadata": {},
     "source": [
      "[proj home page](http://www.cs.huji.ac.il/project/Fairplay/home.html)"
     ]
    }
   ],
   "metadata": {}
  }
 ]
}