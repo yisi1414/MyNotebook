{
 "metadata": {
  "name": "",
  "signature": "sha256:4b78f0c2992e84477104f4744243f62da0ef598d5c05fb2c0984fb7f44dff154"
 },
 "nbformat": 3,
 "nbformat_minor": 0,
 "worksheets": [
  {
   "cells": [
    {
     "cell_type": "heading",
     "level": 1,
     "metadata": {},
     "source": [
      "Characterizing and Detecting Performance Bugs forSmartphone Applications"
     ]
    },
    {
     "cell_type": "markdown",
     "metadata": {},
     "source": [
      "[acm](http://delivery.acm.org/10.1145/2570000/2568229/p1013-liu.pdf?ip=128.239.186.158&id=2568229&acc=ACTIVE%20SERVICE&key=B33240AC40EC9E30%2E491D1E721DB3290B%2E4D4702B0C3E38B35%2E4D4702B0C3E38B35&CFID=595188535&CFTOKEN=30677301&__acm__=1415214735_e52f92fa072ef4cd39ddcd6c9ef9ae2b)"
     ]
    },
    {
     "cell_type": "code",
     "collapsed": false,
     "input": [
      "## Performance Bugs"
     ],
     "language": "python",
     "metadata": {},
     "outputs": []
    }
   ],
   "metadata": {}
  }
 ]
}